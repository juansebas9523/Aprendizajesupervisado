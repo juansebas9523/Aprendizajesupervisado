{
 "cells": [
  {
   "cell_type": "code",
   "execution_count": null,
   "id": "5fec5cd5",
   "metadata": {},
   "outputs": [],
   "source": [
    "sudo apt-get install graphviz\n"
   ]
  },
  {
   "cell_type": "code",
   "execution_count": null,
   "id": "e7c483ad",
   "metadata": {},
   "outputs": [],
   "source": [
    "pip install graphviz"
   ]
  },
  {
   "cell_type": "code",
   "execution_count": null,
   "id": "f563dd9a",
   "metadata": {},
   "outputs": [],
   "source": [
    "from sklearn.tree import export_graphviz\n",
    "import graphviz\n",
    "\n",
    "# Crear el modelo de Árbol de Decisión\n",
    "modelo = DecisionTreeClassifier()\n",
    "modelo.fit(X_train, y_train)\n",
    "\n",
    "# Crear el archivo .dot que representa el árbol\n",
    "dot_data = export_graphviz(modelo, out_file=None, feature_names=['Fiebre', 'Tos', 'Perdida_Olfato_Gusto'], class_names=['No COVID-19', 'Posible COVID-19'], filled=True, rounded=True, special_characters=True)\n",
    "\n",
    "# Visualizar el árbol\n",
    "graph = graphviz.Source(dot_data)\n",
    "graph.render(\"COVID19_Symptoms_Checker\")"
   ]
  }
 ],
 "metadata": {
  "kernelspec": {
   "display_name": "Python 3 (ipykernel)",
   "language": "python",
   "name": "python3"
  },
  "language_info": {
   "codemirror_mode": {
    "name": "ipython",
    "version": 3
   },
   "file_extension": ".py",
   "mimetype": "text/x-python",
   "name": "python",
   "nbconvert_exporter": "python",
   "pygments_lexer": "ipython3",
   "version": "3.11.4"
  }
 },
 "nbformat": 4,
 "nbformat_minor": 5
}
