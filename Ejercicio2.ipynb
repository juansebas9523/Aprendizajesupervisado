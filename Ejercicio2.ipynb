{
 "cells": [
  {
   "cell_type": "code",
   "execution_count": null,
   "id": "6c3bad1d",
   "metadata": {},
   "outputs": [],
   "source": [
    "import numpy as np\n",
    "import pandas as pd\n",
    "from sklearn.model_selection import train_test_split\n",
    "from sklearn.neighbors import KNeighborsClassifier\n",
    "from sklearn.metrics import accuracy_score, confusion_matrix\n"
   ]
  },
  {
   "cell_type": "code",
   "execution_count": null,
   "id": "b804e87c",
   "metadata": {},
   "outputs": [],
   "source": [
    "# Generar datos de ejemplo\n",
    "np.random.seed(0)\n",
    "n_samples = 100\n",
    "sintomas = pd.DataFrame({\n",
    "    'Fiebre': np.random.choice([0, 1], n_samples),\n",
    "    'Tos': np.random.choice([0, 1], n_samples),\n",
    "    'Perdida_Olfato_Gusto': np.random.choice([0, 1], n_samples),\n",
    "    'Dificultad_Respirar': np.random.choice([0, 1], n_samples),\n",
    "    'Resultado_COVID': np.random.choice(['Negativo', 'Positivo'], n_samples)\n",
    "})\n",
    "\n",
    "print(sintomas.head())\n"
   ]
  },
  {
   "cell_type": "code",
   "execution_count": null,
   "id": "0257a6b1",
   "metadata": {},
   "outputs": [],
   "source": [
    "# Dividir el conjunto de datos en entrenamiento y prueba\n",
    "X = sintomas.drop('Resultado_COVID', axis=1)\n",
    "y = sintomas['Resultado_COVID']\n",
    "X_train, X_test, y_train, y_test = train_test_split(X, y, test_size=0.2, random_state=0)\n"
   ]
  },
  {
   "cell_type": "code",
   "execution_count": null,
   "id": "71ca4785",
   "metadata": {},
   "outputs": [],
   "source": [
    "# Crear un modelo KNN\n",
    "k = 3  # Número de vecinos\n",
    "modelo_knn = KNeighborsClassifier(n_neighbors=k)\n",
    "\n",
    "# Entrenar el modelo\n",
    "modelo_knn.fit(X_train, y_train)\n"
   ]
  },
  {
   "cell_type": "code",
   "execution_count": null,
   "id": "1381ccb5",
   "metadata": {},
   "outputs": [],
   "source": [
    "# Hacer predicciones en el conjunto de prueba\n",
    "y_pred = modelo_knn.predict(X_test)\n",
    "\n",
    "# Evaluar la precisión del modelo\n",
    "precision = accuracy_score(y_test, y_pred)\n",
    "matriz_confusion = confusion_matrix(y_test, y_pred)\n",
    "\n",
    "print(f\"Precisión del modelo: {precision}\")\n",
    "print(\"Matriz de Confusión:\")\n",
    "print(matriz_confusion)\n"
   ]
  }
 ],
 "metadata": {
  "kernelspec": {
   "display_name": "Python 3 (ipykernel)",
   "language": "python",
   "name": "python3"
  },
  "language_info": {
   "codemirror_mode": {
    "name": "ipython",
    "version": 3
   },
   "file_extension": ".py",
   "mimetype": "text/x-python",
   "name": "python",
   "nbconvert_exporter": "python",
   "pygments_lexer": "ipython3",
   "version": "3.11.4"
  }
 },
 "nbformat": 4,
 "nbformat_minor": 5
}
